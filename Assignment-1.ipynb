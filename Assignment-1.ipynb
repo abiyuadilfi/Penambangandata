{
 "cells": [
  {
   "cell_type": "markdown",
   "id": "26c887aa-ea00-4983-8f88-a6bca6cab7c8",
   "metadata": {},
   "source": [
    "## A11.2023.15505_M Abiyyu Adilfi"
   ]
  },
  {
   "cell_type": "markdown",
   "id": "8d8b8c76-b345-47ad-a968-3ac1b9a482cf",
   "metadata": {},
   "source": [
    "# Deskripsi Dataset\n",
    "> Dataset yang Anda analisis adalah data kesehatan yang berisi informasi tentang partisipan dalam suatu studi atau penelitian. Dataset ini diambil dari lembar kerja Excel yang bernama '2022' dan mencakup berbagai variabel yang berkaitan dengan kesehatan dan kondisi sosial ekonomi partisipan."
   ]
  },
  {
   "cell_type": "code",
   "execution_count": 1,
   "id": "cf72eefc-2a2d-4844-b6df-a9ef906b1634",
   "metadata": {},
   "outputs": [],
   "source": [
    "import pandas as pd"
   ]
  },
  {
   "cell_type": "code",
   "execution_count": 29,
   "id": "be9d3bbf-12d3-4c6c-9179-130be569b3a8",
   "metadata": {},
   "outputs": [],
   "source": [
    "# Load the Excel file\n",
    "file_path = r'C:/Users/Abiyu/Desktop/DataMining/Abiyu-Rep1/dataKasus-1.xlsx'\n",
    "xls = pd.ExcelFile(file_path)"
   ]
  },
  {
   "cell_type": "code",
   "execution_count": 30,
   "id": "c834d402-1041-416c-bc44-9a34460039d2",
   "metadata": {},
   "outputs": [],
   "source": [
    "# Load the data from the '2022' sheet\n",
    "data_2022 = pd.read_excel(xls, sheet_name='2022')"
   ]
  },
  {
   "cell_type": "code",
   "execution_count": 31,
   "id": "6063c08d-f723-4d04-87ba-7ec1fcae33d8",
   "metadata": {},
   "outputs": [],
   "source": [
    "# Drop the unnamed column that seems to be irrelevant\n",
    "data_cleaned = data_2022.drop(columns=['Unnamed: 12'])"
   ]
  },
  {
   "cell_type": "code",
   "execution_count": 20,
   "id": "79f16177-f3b3-48bd-a384-2d2ea4b61ca0",
   "metadata": {},
   "outputs": [],
   "source": [
    "data_cleaned['USIA'] = pd.to_numeric(data_cleaned['USIA'].str.extract(r'(\\d+)')[0], errors='coerce')"
   ]
  },
  {
   "cell_type": "code",
   "execution_count": 21,
   "id": "ff401383-38fc-4390-b146-098954c9ba2c",
   "metadata": {},
   "outputs": [],
   "source": [
    "data_cleaned.dropna(subset=['USIA'], inplace=True)"
   ]
  },
  {
   "cell_type": "code",
   "execution_count": 22,
   "id": "bcedd750-3391-4ddd-a8c2-41412d83c3f6",
   "metadata": {},
   "outputs": [],
   "source": [
    "data_cleaned['USIA'] = data_cleaned['USIA'].astype(int)"
   ]
  },
  {
   "cell_type": "code",
   "execution_count": 23,
   "id": "ffa0a029-b6fd-4dc2-9ce6-669645567c44",
   "metadata": {},
   "outputs": [
    {
     "name": "stdout",
     "output_type": "stream",
     "text": [
      "   NO    NAMA  USIA  PARITAS JARAK KELAHIRAN RIW HIPERTENSI RIW PE OBESITAS  \\\n",
      "0   1  NAMA 1    23        3       < 2 tahun          Tidak  Tidak    Tidak   \n",
      "1   2  NAMA 2    29        2       < 2 tahun          Tidak    PEB    Tidak   \n",
      "2   3  NAMA 3    20        1    anak pertama          Tidak  Tidak    Tidak   \n",
      "3   4  NAMA 4    18        1    anak pertama          Tidak  Tidak    Tidak   \n",
      "4   5  NAMA 5    34        3      > 2 tahun           Tidak  Tidak    Tidak   \n",
      "\n",
      "  RIW DM RIW HIPERTENSI/PE DALAM KELUARGA SOSEK RENDAH PE/Non PE  \n",
      "0     Ya                            Tidak         >UMR    Non PE  \n",
      "1  Tidak                              Ada         >UMR        PE  \n",
      "2  Tidak                            Tidak         >UMR    Non PE  \n",
      "3  Tidak                            Tidak         >UMR    Non PE  \n",
      "4  Tidak                            Tidak         >UMR    Non PE  \n"
     ]
    }
   ],
   "source": [
    "print(data_cleaned.head())"
   ]
  },
  {
   "cell_type": "code",
   "execution_count": 24,
   "id": "85df049d-dc9a-4e5f-8721-51dee6f459c7",
   "metadata": {},
   "outputs": [
    {
     "name": "stdout",
     "output_type": "stream",
     "text": [
      "\n",
      "Jumlah kasus PE dan Non-PE:\n",
      "PE/Non PE\n",
      "Non PE                    507\n",
      "PEB                        19\n",
      "PE                         17\n",
      "Eklamsia                    1\n",
      "PE gemelli                  1\n",
      "PEB impending eklampsi      1\n",
      "PE                          1\n",
      "Name: count, dtype: int64\n"
     ]
    }
   ],
   "source": [
    "pe_counts = data_cleaned['PE/Non PE'].value_counts()\n",
    "print(\"\\nJumlah kasus PE dan Non-PE:\")\n",
    "print(pe_counts)"
   ]
  },
  {
   "cell_type": "code",
   "execution_count": 25,
   "id": "6521efcd-cd96-416a-b332-a02aa4560bf8",
   "metadata": {},
   "outputs": [
    {
     "name": "stdout",
     "output_type": "stream",
     "text": [
      "\n",
      "Rata-rata usia partisipan: 28.195612431444243\n"
     ]
    }
   ],
   "source": [
    "average_age = data_cleaned['USIA'].mean()\n",
    "print(\"\\nRata-rata usia partisipan:\", average_age)"
   ]
  },
  {
   "cell_type": "code",
   "execution_count": 26,
   "id": "01a6df6f-fa60-44e2-a433-bc5e7afa04d6",
   "metadata": {},
   "outputs": [
    {
     "name": "stdout",
     "output_type": "stream",
     "text": [
      "\n",
      "Jumlah partisipan berdasarkan RIW HIPERTENSI:\n",
      "RIW HIPERTENSI\n",
      "Tidak    496\n",
      "Ya        51\n",
      "Name: count, dtype: int64\n",
      "\n",
      "Jumlah partisipan berdasarkan OBESITAS:\n",
      "OBESITAS\n",
      "Tidak    542\n",
      "Ya         5\n",
      "Name: count, dtype: int64\n",
      "\n",
      "Jumlah partisipan berdasarkan RIW DM:\n",
      "RIW DM\n",
      "Tidak    542\n",
      "Ya         5\n",
      "Name: count, dtype: int64\n"
     ]
    }
   ],
   "source": [
    "conditions = ['RIW HIPERTENSI', 'OBESITAS', 'RIW DM']\n",
    "for condition in conditions:\n",
    "    condition_counts = data_cleaned[condition].value_counts()\n",
    "    print(f\"\\nJumlah partisipan berdasarkan {condition}:\")\n",
    "    print(condition_counts)"
   ]
  },
  {
   "cell_type": "code",
   "execution_count": 27,
   "id": "a00aef33-fc73-4555-996a-aeaa0cb5f95b",
   "metadata": {},
   "outputs": [
    {
     "name": "stdout",
     "output_type": "stream",
     "text": [
      "\n",
      "Status sosial ekonomi partisipan:\n",
      "SOSEK RENDAH\n",
      ">UMR    544\n",
      "<UMR      3\n",
      "Name: count, dtype: int64\n"
     ]
    }
   ],
   "source": [
    "sosek_counts = data_cleaned['SOSEK RENDAH'].value_counts()\n",
    "print(\"\\nStatus sosial ekonomi partisipan:\")\n",
    "print(sosek_counts)"
   ]
  },
  {
   "cell_type": "markdown",
   "id": "408c961c-22ca-489e-837c-08c8003cf3c8",
   "metadata": {},
   "source": [
    "# Hasil Analisis\n",
    "1. - Jumlah Kasus PE dan Non-PE:\n",
    "Dataset menunjukkan jumlah partisipan dengan kondisi PE dan Non PE, yang memberikan gambaran tentang prevalensi penyakit dalam populasi yang diteliti.\n",
    "\n",
    "2. - Rata-rata Usia Partisipan:\n",
    "Rata-rata usia partisipan memberikan wawasan tentang demografi peserta. Hal ini penting untuk memahami karakteristik populasi dalam studi ini.\n",
    "\n",
    "3. - Distribusi Kondisi Kesehatan:\n",
    "Analisis terhadap kondisi kesehatan seperti hipertensi, obesitas, dan diabetes memberikan gambaran tentang faktor risiko yang mungkin ada dalam populasi. Ini dapat membantu dalam merumuskan intervensi kesehatan yang lebih baik.\n",
    "\n",
    "4. - Status Sosial Ekonomi:\n",
    "Mengetahui status sosial ekonomi partisipan bisa menjadi indikator penting dalam penelitian kesehatan. Ada kemungkinan bahwa status sosial ekonomi berkorelasi dengan kesehatan dan akses terhadap perawatan kesehatan."
   ]
  },
  {
   "cell_type": "markdown",
   "id": "dabc83ca-f625-49a1-a035-7134ec8589a4",
   "metadata": {},
   "source": [
    "# Kesimpulan\n",
    "> Dataset ini menyediakan informasi penting untuk penelitian di bidang kesehatan, khususnya dalam memahami kondisi kesehatan populasi. Melalui analisis usia, prevalensi penyakit, serta status sosial ekonomi, para peneliti bisa mengenali pola, faktor risiko, dan wilayah yang memerlukan intervensi kesehatan. Dataset ini bisa menjadi fondasi bagi analisis lanjutan dan perumusan strategi kesehatan masyarakat yang lebih efisien."
   ]
  }
 ],
 "metadata": {
  "kernelspec": {
   "display_name": "Python 3 (ipykernel)",
   "language": "python",
   "name": "python3"
  },
  "language_info": {
   "codemirror_mode": {
    "name": "ipython",
    "version": 3
   },
   "file_extension": ".py",
   "mimetype": "text/x-python",
   "name": "python",
   "nbconvert_exporter": "python",
   "pygments_lexer": "ipython3",
   "version": "3.10.5"
  }
 },
 "nbformat": 4,
 "nbformat_minor": 5
}
